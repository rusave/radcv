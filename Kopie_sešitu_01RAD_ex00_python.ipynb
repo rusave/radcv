{
  "nbformat": 4,
  "nbformat_minor": 0,
  "metadata": {
    "colab": {
      "private_outputs": true,
      "provenance": [],
      "include_colab_link": true
    },
    "kernelspec": {
      "name": "python3",
      "display_name": "Python 3"
    },
    "language_info": {
      "name": "python"
    }
  },
  "cells": [
    {
      "cell_type": "markdown",
      "metadata": {
        "id": "view-in-github",
        "colab_type": "text"
      },
      "source": [
        "<a href=\"https://colab.research.google.com/github/rusave/radcv/blob/main/Kopie_se%C5%A1itu_01RAD_ex00_python.ipynb\" target=\"_parent\"><img src=\"https://colab.research.google.com/assets/colab-badge.svg\" alt=\"Open In Colab\"/></a>"
      ]
    },
    {
      "cell_type": "markdown",
      "source": [
        "# 01RAD - Exercise 00\n",
        "\n",
        "* Python, Jupyter NB\n",
        "* Data handling\n",
        "* Data wrangling\n",
        "\n",
        "We assume basic knowledge of Python and work with Jupyter NB\n"
      ],
      "metadata": {
        "id": "IJZpZoupsfsX"
      }
    },
    {
      "cell_type": "markdown",
      "metadata": {
        "id": "nEGyKc3C8teG"
      },
      "source": [
        "## Setup"
      ]
    },
    {
      "cell_type": "code",
      "execution_count": null,
      "metadata": {
        "id": "26cEQ8Nt8teK"
      },
      "outputs": [],
      "source": [
        "import numpy as np\n",
        "import pandas as pd\n",
        "\n",
        "import matplotlib.pyplot as plt\n",
        "import seaborn as sns\n",
        "\n",
        "import statsmodels.api as sm\n",
        "import statistics as st"
      ]
    },
    {
      "cell_type": "code",
      "source": [
        "# Suppress FutureWarnings\n",
        "import warnings\n",
        "warnings.filterwarnings(\"ignore\", category=FutureWarning)\n"
      ],
      "metadata": {
        "id": "gM8H1Mu59dCM"
      },
      "execution_count": null,
      "outputs": []
    },
    {
      "cell_type": "code",
      "execution_count": null,
      "metadata": {
        "id": "vCDVk5ts8teL"
      },
      "outputs": [],
      "source": [
        "# Load the Trees dataset from the statsmodels built-in datasets\n",
        "trees = sm.datasets.get_rdataset(\"trees\").data\n",
        "\n",
        "# Display the first few rows of the dataset\n",
        "trees.head()"
      ]
    },
    {
      "cell_type": "code",
      "source": [
        "? trees"
      ],
      "metadata": {
        "id": "X-tQykDJeaY9"
      },
      "execution_count": null,
      "outputs": []
    },
    {
      "cell_type": "code",
      "source": [
        "trees.describe()"
      ],
      "metadata": {
        "id": "AzDtqykGeacb"
      },
      "execution_count": null,
      "outputs": []
    },
    {
      "cell_type": "code",
      "source": [
        "trees"
      ],
      "metadata": {
        "id": "qGlhTTv8Tov-"
      },
      "execution_count": null,
      "outputs": []
    },
    {
      "cell_type": "markdown",
      "source": [
        "# How to run R in Jupyter notebook with Python kernel?\n",
        "\n",
        "We will use it in cases where the Python package will not be an adequate replacement for the R package."
      ],
      "metadata": {
        "id": "sQMhJwkkWSeR"
      }
    },
    {
      "cell_type": "code",
      "source": [
        "# Install rpy2 and use R magic cell\n",
        "!pip install rpy2\n",
        "\n",
        "%load_ext rpy2.ipython"
      ],
      "metadata": {
        "id": "VA5ClDdPWDOC"
      },
      "execution_count": null,
      "outputs": []
    },
    {
      "cell_type": "code",
      "source": [
        "%%R -o trees_R\n",
        "data(trees)\n",
        "head(trees)\n",
        "\n",
        "\n",
        "trees_R <- trees\n",
        "? trees"
      ],
      "metadata": {
        "id": "qxXYOzCrWDYz"
      },
      "execution_count": null,
      "outputs": []
    },
    {
      "cell_type": "code",
      "source": [
        "# Reset the index to remove index labels from both DataFrames and convert to float\n",
        "trees_numeric = trees.reset_index(drop=True).astype(float)\n",
        "trees_R_numeric = trees_R.reset_index(drop=True).astype(float)\n",
        "\n",
        "# Use np.isclose to compare with a tolerance for floating-point numbers\n",
        "comparison = np.isclose(trees_numeric, trees_R_numeric)\n",
        "\n",
        "# Check if all elements are close enough (numerically identical)\n",
        "comparison.all()\n"
      ],
      "metadata": {
        "id": "bQ70X5SaW8jK"
      },
      "execution_count": null,
      "outputs": []
    },
    {
      "cell_type": "markdown",
      "source": [
        "# First Task - Data handling\n",
        "\n",
        "* Load the `trees` dataframe\n",
        "* Calculate the mean and variance of the height and volume of the trees.\n",
        "* Compare the result from built-in functions with a \"manual\" calculation using the formula.\n",
        "* Check `? trees` and convert the variable Girth to $cm$, Height to $m$, and Volume to $m^3$.\n",
        "* Calculate the BMI index of the tree assuming that the density of the wood of all listed trees is constant and equal to 900 kg / m$^3$. Save the result in the `trees` table as a new variable `BMI`.\n",
        "* Look at the table `table` of the calculated values, divide it into 3 groups `{thin, normal, obese}` - and assign a factor-type variable to each record.\n",
        "   Example: Choose break1 and break2 values so that they make sense for you.\n",
        "* Use quantile binning in the previous task\n",
        "* Visualise data"
      ],
      "metadata": {
        "id": "Xlx9E8j9xSNW"
      }
    },
    {
      "cell_type": "code",
      "source": [
        "# Calculate mean and variance of Height and Volume\n",
        "mean_height = trees['Height'].mean()\n",
        "var_height = trees['Height'].var()\n",
        "\n",
        "mean_volume = trees['Volume'].mean()\n",
        "var_volume = trees['Volume'].var()\n",
        "\n",
        "print(f\"Mean Height: {mean_height}, Variance Height: {var_height}\")\n",
        "print(f\"Mean Volume: {mean_volume}, Variance Volume: {var_volume}\")\n"
      ],
      "metadata": {
        "id": "j6sEVWBmZ4Nf"
      },
      "execution_count": null,
      "outputs": []
    },
    {
      "cell_type": "code",
      "source": [
        "# Manual calculation of mean and variance\n",
        "manual_mean_height = trees['Height'].sum() / len(trees['Height'])\n",
        "manual_var_height = sum((trees['Height'] - manual_mean_height) ** 2) / (len(trees['Height']) - 1)\n",
        "\n",
        "manual_mean_volume = trees['Volume'].sum() / len(trees['Volume'])\n",
        "manual_var_volume = sum((trees['Volume'] - manual_mean_volume) ** 2) / (len(trees['Volume']) - 1)\n",
        "\n",
        "print(f\"Manual Mean Height: {manual_mean_height}, Manual Variance Height: {manual_var_height}\")\n",
        "print(f\"Manual Mean Volume: {manual_mean_volume}, Manual Variance Volume: {manual_var_volume}\")\n"
      ],
      "metadata": {
        "id": "0F9khgGxa8t9"
      },
      "execution_count": null,
      "outputs": []
    },
    {
      "cell_type": "code",
      "source": [
        "def mean_of_column(df, column_name):\n",
        "    total_sum = df[column_name].sum()\n",
        "    num_observations = len(df[column_name])\n",
        "    mean = total_sum / num_observations\n",
        "    return mean\n",
        "\n",
        "def variance_of_column(df, column_name):\n",
        "    mean = mean_of_column(df, column_name)\n",
        "    num_observations = len(df[column_name])\n",
        "    total_sum = 0\n",
        "    for i in range(num_observations):\n",
        "        total_sum = total_sum + (df[column_name][i] - mean)**2\n",
        "    variance = total_sum / (num_observations-1)\n",
        "    return variance\n",
        "\n",
        "print('Manual Mean Height:', mean_of_column(trees, 'Height'))\n",
        "print('Manual Variance Height::', variance_of_column(trees, 'Height'))\n"
      ],
      "metadata": {
        "id": "KnzScoDkd09i"
      },
      "execution_count": null,
      "outputs": []
    },
    {
      "cell_type": "code",
      "source": [
        "def convert(df):\n",
        "    df['Girth_cm'] = df['Girth'] * 2.54            # from inches to centimeters\n",
        "    df['Height_m'] = df['Height'] * 0.3048         # from feet to cmeters\n",
        "    df['Volume_m3'] = df['Volume'] * (0.3048**3)   # from feet**3 to meters**3\n",
        "    return df\n",
        "\n",
        "trees = convert(trees)\n",
        "trees.head()\n"
      ],
      "metadata": {
        "id": "NBCy8g2dfB_4"
      },
      "execution_count": null,
      "outputs": []
    },
    {
      "cell_type": "code",
      "source": [
        "# Calculate BMI\n",
        "density = 900  # kg/m^3\n",
        "trees['BMI'] = (trees['Volume_m3'] * density) / (trees['Height_m'] ** 2)\n",
        "\n",
        "print(trees[['Girth_cm', 'Height_m', 'Volume_m3', 'BMI']].head())\n"
      ],
      "metadata": {
        "id": "6isQVIWUbp7F"
      },
      "execution_count": null,
      "outputs": []
    },
    {
      "cell_type": "code",
      "source": [
        "sns.histplot(trees, x=\"BMI\", kde=True, color=\"red\", label=\"BMI\", bins=20, element='step')\n",
        "#kde= kernel density estimation\n",
        "#pozor na jadrove odhady a nekonecny nosic, abych pak pri generovani nedostala nerealnou hodnotu\n"
      ],
      "metadata": {
        "id": "69MBrWGNdS3H"
      },
      "execution_count": null,
      "outputs": []
    },
    {
      "cell_type": "code",
      "source": [
        "# Define breakpoints for BMI categories\n",
        "breakpoints = [trees['BMI'].min()-1, 1, 2, trees['BMI'].max()+1]\n",
        "labels = ['thin', 'normal', 'obese']\n",
        "\n",
        "# Create a new column with BMI categories\n",
        "trees['BMI_category'] = pd.cut(trees['BMI'], bins=breakpoints, labels=labels)\n",
        "\n",
        "print(trees[['Girth_cm', 'Height_m', 'Volume_m3', 'BMI', 'BMI_category']].head())\n"
      ],
      "metadata": {
        "id": "5cnlCw0tcQsl"
      },
      "execution_count": null,
      "outputs": []
    },
    {
      "cell_type": "code",
      "source": [
        "#  Group trees into 'thin', 'normal', 'obese' based on BMI\n",
        "break1, break2 = trees['BMI'].quantile([0.33, 0.66])\n",
        "conditions = [\n",
        "    (trees['BMI'] <= break1),\n",
        "    (trees['BMI'] > break1) & (trees['BMI'] <= break2),\n",
        "    (trees['BMI'] > break2)\n",
        "]\n",
        "choices = ['thin', 'normal', 'obese']\n",
        "trees['BMI_category_q'] = np.select(conditions, choices)\n",
        "trees"
      ],
      "metadata": {
        "id": "YgJUMKZqZ5Oh"
      },
      "execution_count": null,
      "outputs": []
    },
    {
      "cell_type": "code",
      "source": [],
      "metadata": {
        "id": "wGLNFDvQZ55W"
      },
      "execution_count": null,
      "outputs": []
    },
    {
      "cell_type": "code",
      "source": [
        "\n",
        "# Create a figure and axis\n",
        "plt.figure(figsize=(10, 6))\n",
        "\n",
        "# Boxplot for Girth by BMI_category\n",
        "sns.boxplot(x='BMI_category', y='Girth', data=trees)\n",
        "\n",
        "# Add jitter using a stripplot\n",
        "sns.stripplot(x='BMI_category', y='Girth', data=trees, color='black', jitter=True, alpha=0.6)\n",
        "\n",
        "# Add means to the plot using pointplot\n",
        "# sns.pointplot(x='BMI_category', y='Girth', data=trees, estimator='mean', color='red', markers='D', ci=None)\n",
        "\n",
        "# Add title and labels\n",
        "plt.title('Boxplot with Jitter and Mean for Girth by BMI Category')\n",
        "plt.xlabel('BMI Category')\n",
        "plt.ylabel('Girth (inches)')\n",
        "\n",
        "# Show the plot\n",
        "plt.show()\n"
      ],
      "metadata": {
        "id": "mCxPHwwmgVgB"
      },
      "execution_count": null,
      "outputs": []
    },
    {
      "cell_type": "code",
      "source": [
        "# Create a figure and axis\n",
        "plt.figure(figsize=(10, 6))\n",
        "\n",
        "# Violin plot for Girth by BMI_category\n",
        "sns.violinplot(x='BMI_category', y='Girth', data=trees, inner=None)\n",
        "\n",
        "# Add jitter using a stripplot\n",
        "sns.stripplot(x='BMI_category', y='Girth', data=trees, color='black', jitter=True, alpha=0.6)\n",
        "\n",
        "# Add title and labels\n",
        "plt.title('Violin Plot with Jitter and Mean for Girth by BMI Category')\n",
        "plt.xlabel('BMI Category')\n",
        "plt.ylabel('Girth (inches)')\n",
        "\n",
        "# Show the plot\n",
        "plt.show()\n"
      ],
      "metadata": {
        "id": "KUkU7RWsgnmQ"
      },
      "execution_count": null,
      "outputs": []
    },
    {
      "cell_type": "code",
      "source": [
        "#mulitomodalni rozdeleni = hustota ma vice kopecku"
      ],
      "metadata": {
        "id": "cDNr-JO_gV7Z"
      },
      "execution_count": null,
      "outputs": []
    },
    {
      "cell_type": "code",
      "source": [],
      "metadata": {
        "id": "3CHCH9JViOao"
      },
      "execution_count": null,
      "outputs": []
    }
  ]
}