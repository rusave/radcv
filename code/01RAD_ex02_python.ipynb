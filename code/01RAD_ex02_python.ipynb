{
  "nbformat": 4,
  "nbformat_minor": 0,
  "metadata": {
    "colab": {
      "private_outputs": true,
      "provenance": [],
      "include_colab_link": true
    },
    "kernelspec": {
      "name": "python3",
      "display_name": "Python 3"
    },
    "language_info": {
      "name": "python"
    }
  },
  "cells": [
    {
      "cell_type": "markdown",
      "metadata": {
        "id": "view-in-github",
        "colab_type": "text"
      },
      "source": [
        "<a href=\"https://colab.research.google.com/github/rusave/radcv/blob/main/code/01RAD_ex02_python.ipynb\" target=\"_parent\"><img src=\"https://colab.research.google.com/assets/colab-badge.svg\" alt=\"Open In Colab\"/></a>"
      ]
    },
    {
      "cell_type": "markdown",
      "source": [
        "# 01RAD Exercise 02"
      ],
      "metadata": {
        "id": "wjGmDby1nk4P"
      }
    },
    {
      "cell_type": "markdown",
      "source": [
        "# Data exploration\n",
        "\n",
        "Data exploration is essential for understanding the characteristics and relationships in the dataset before fitting any models.\n"
      ],
      "metadata": {
        "id": "VAE0bYt2XHmJ"
      }
    },
    {
      "cell_type": "code",
      "source": [
        "import pandas as pd\n",
        "import seaborn as sns\n",
        "import matplotlib.pyplot as plt\n",
        "import numpy as np\n",
        "import scipy.stats as stats\n",
        "\n",
        "import statsmodels.api as sm\n",
        "import statsmodels.formula.api as smf\n",
        "\n",
        "from statsmodels.stats.multicomp import pairwise_tukeyhsd\n",
        "from statsmodels.datasets import get_rdataset\n",
        "from scipy.stats import t,norm"
      ],
      "metadata": {
        "id": "1-F1k7Fqn6m8"
      },
      "execution_count": null,
      "outputs": []
    },
    {
      "cell_type": "code",
      "source": [],
      "metadata": {
        "id": "H8Axwgkqn8oB"
      },
      "execution_count": null,
      "outputs": []
    },
    {
      "cell_type": "code",
      "source": [
        "\n",
        "\n",
        "# Load the dataset\n",
        "cars = sns.load_dataset('mpg').dropna()  # Dropping rows with missing values\n",
        "\n",
        "# Check the first few rows\n",
        "print(cars.head())"
      ],
      "metadata": {
        "id": "g-sDRXemnv9G"
      },
      "execution_count": null,
      "outputs": []
    },
    {
      "cell_type": "code",
      "source": [
        "print(cars.head())"
      ],
      "metadata": {
        "id": "coA3jc2Gn6wH"
      },
      "execution_count": null,
      "outputs": []
    },
    {
      "cell_type": "code",
      "source": [
        "print(cars.describe(include='all'))"
      ],
      "metadata": {
        "id": "v-wcSLPnofDR"
      },
      "execution_count": null,
      "outputs": []
    },
    {
      "cell_type": "code",
      "source": [],
      "metadata": {
        "id": "yonnp3aNo6UG"
      },
      "execution_count": null,
      "outputs": []
    },
    {
      "cell_type": "code",
      "source": [
        "# Select only numeric columns\n",
        "numeric_cars =  cars.select_dtypes(include=[float, int])\n",
        "\n",
        "# Calculate the correlation matrix\n",
        "corr_matrix = numeric_cars.corr()\n",
        "\n",
        "# Plot the correlation matrix using seaborn's heatmap\n",
        "plt.figure(figsize=(10, 8))\n",
        "sns.heatmap(corr_matrix, annot=True, cmap='coolwarm', fmt='.2f', vmin=-1, vmax=1)\n",
        "plt.title('Correlation Matrix')\n",
        "plt.show()"
      ],
      "metadata": {
        "id": "zvXXBiGJoBI8"
      },
      "execution_count": null,
      "outputs": []
    },
    {
      "cell_type": "code",
      "source": [],
      "metadata": {
        "id": "T4_2ndOuo9GS"
      },
      "execution_count": null,
      "outputs": []
    },
    {
      "cell_type": "code",
      "source": [
        "# Pair plot for the  cars dataset\n",
        "sns.pairplot(numeric_cars)\n",
        "plt.suptitle('Pair Plot for Cars Dataset', y=1.02)\n",
        "plt.show()"
      ],
      "metadata": {
        "id": "7Kuu9OTRo9JM"
      },
      "execution_count": null,
      "outputs": []
    },
    {
      "cell_type": "markdown",
      "source": [
        "Choose mpg as response and weight as regressor"
      ],
      "metadata": {
        "id": "z8m-0Atho9lj"
      }
    },
    {
      "cell_type": "code",
      "source": [
        "# Set up the plot grid with 3 subplots\n",
        "plt.figure(figsize=(12, 6))\n",
        "\n",
        "# 1. Scatter plot of MPG vs Weight\n",
        "plt.subplot(1, 3, 1)\n",
        "sns.scatterplot(data=cars, x='weight', y='mpg')\n",
        "plt.title(\"Scatter plot of Weight vs MPG\")\n",
        "plt.xlabel(\"Weight\")\n",
        "plt.ylabel(\"MPG\")\n",
        "\n",
        "# 2. Histogram and Density Plot of Weight\n",
        "plt.subplot(1, 3, 2)\n",
        "sns.histplot(cars['weight'], kde=True, color='green', label='Weight')\n",
        "plt.legend()\n",
        "plt.title(\"Histogram and Density Plot of Weight\")\n",
        "plt.xlabel(\"Weight\")\n",
        "\n",
        "# 3. Histogram and Density Plot of MPG\n",
        "plt.subplot(1, 3, 3)\n",
        "sns.histplot(cars['mpg'], kde=True, color='blue', label='MPG')\n",
        "plt.legend()\n",
        "plt.title(\"Histogram and Density Plot of MPG\")\n",
        "plt.xlabel(\"MPG\")\n",
        "\n",
        "plt.tight_layout()\n",
        "plt.show()\n"
      ],
      "metadata": {
        "id": "XoIEtya5pDna"
      },
      "execution_count": null,
      "outputs": []
    },
    {
      "cell_type": "code",
      "source": [
        "# Scatter plot of Weight vs MPG with colors by Country (origin)\n",
        "plt.figure(figsize=(10, 6))\n",
        "sns.scatterplot(data=cars, x='weight', y='mpg', hue='origin', palette='Set1')\n",
        "\n",
        "# Add labels and title\n",
        "plt.title(\"Scatter plot of Weight vs MPG (Colored by Country)\")\n",
        "plt.xlabel(\"Weight\")\n",
        "plt.ylabel(\"MPG\")\n",
        "\n",
        "# Display the plot\n",
        "plt.show()"
      ],
      "metadata": {
        "id": "Bu6Xa0UUpPrG"
      },
      "execution_count": null,
      "outputs": []
    },
    {
      "cell_type": "code",
      "source": [
        "import itertools\n",
        "\n",
        "# Compute mean MPG for each country (origin)\n",
        "mean_mpg_by_country = cars.groupby('origin')['mpg'].mean()\n",
        "print(\"Mean MPG by Country (Origin):\")\n",
        "print(mean_mpg_by_country)\n",
        "\n",
        "# Compute pairwise differences between means\n",
        "country_pairs = list(itertools.combinations(mean_mpg_by_country.index, 2))\n",
        "\n",
        "print(\"\\nDifferences between mean MPG by country pairs:\")\n",
        "for country1, country2 in country_pairs:\n",
        "    mean_diff = mean_mpg_by_country[country1] - mean_mpg_by_country[country2]\n",
        "    print(f\"Difference between {country1} and {country2}: {mean_diff:.4f}\")\n"
      ],
      "metadata": {
        "id": "6VbDkYaKqGlA"
      },
      "execution_count": null,
      "outputs": []
    },
    {
      "cell_type": "code",
      "source": [
        "# Perform pairwise t-tests between countries\n",
        "country_list = cars['origin'].unique()\n",
        "\n",
        "for i, country1 in enumerate(country_list):\n",
        "    for country2 in country_list[i+1:]:\n",
        "        mpg1 = cars[cars['origin'] == country1]['mpg']\n",
        "        mpg2 = cars[cars['origin'] == country2]['mpg']\n",
        "        t_stat, p_value = stats.ttest_ind(mpg1, mpg2)\n",
        "        print(f\"\\nT-test between {country1} and {country2}:\")\n",
        "        print(f\"t-statistic: {t_stat:.4f}, p-value: {p_value:.4f}\")\n"
      ],
      "metadata": {
        "id": "khyyMDofqhb2"
      },
      "execution_count": null,
      "outputs": []
    },
    {
      "cell_type": "code",
      "source": [
        "# Perform ANOVA to compare means across all countries\n",
        "model = smf.ols('mpg ~ C(origin)', data=cars).fit()\n",
        "anova_table = sm.stats.anova_lm(model, typ=2)\n",
        "print(\"\\nANOVA Table:\")\n",
        "print(anova_table)\n"
      ],
      "metadata": {
        "id": "CaAkiD6xqn_2"
      },
      "execution_count": null,
      "outputs": []
    },
    {
      "cell_type": "code",
      "source": [
        "import scipy.stats as stats\n",
        "\n",
        "# Separate MPG data by country\n",
        "mpg_usa = cars[cars['origin'] == 'usa']['mpg']\n",
        "mpg_japan = cars[cars['origin'] == 'japan']['mpg']\n",
        "mpg_europe = cars[cars['origin'] == 'europe']['mpg']\n",
        "\n",
        "# Perform ANOVA\n",
        "f_stat, p_value = stats.f_oneway(mpg_usa, mpg_japan, mpg_europe)\n",
        "\n",
        "print(f\"ANOVA Results: F-statistic = {f_stat:.4f}, p-value = {p_value:.4f}\")\n"
      ],
      "metadata": {
        "id": "lHPKEnhZqzGl"
      },
      "execution_count": null,
      "outputs": []
    },
    {
      "cell_type": "code",
      "source": [
        "# Perform Tukey's HSD test for pairwise comparison\n",
        "tukey = pairwise_tukeyhsd(endog=cars['mpg'], groups=cars['origin'], alpha=0.05)\n",
        "print(\"\\nTukey's HSD Test:\")\n",
        "print(tukey.summary())"
      ],
      "metadata": {
        "id": "XWgYG9s8qt9r"
      },
      "execution_count": null,
      "outputs": []
    },
    {
      "cell_type": "code",
      "source": [],
      "metadata": {
        "id": "iNI2LwPUqGnu"
      },
      "execution_count": null,
      "outputs": []
    },
    {
      "cell_type": "code",
      "source": [],
      "metadata": {
        "id": "8neeH4N_qGqc"
      },
      "execution_count": null,
      "outputs": []
    },
    {
      "cell_type": "code",
      "source": [],
      "metadata": {
        "id": "lxAQkuoBqGtH"
      },
      "execution_count": null,
      "outputs": []
    },
    {
      "cell_type": "code",
      "source": [
        "# 1. Simple Linear Regression: MPG ~ weight\n",
        "model = smf.ols('mpg ~ weight', data=cars)\n",
        "fit = model.fit()\n",
        "print(fit.summary())\n",
        "\n",
        "# Plotting the regression line\n",
        "sns.regplot(x='weight', y='mpg', data=cars, ci=None, line_kws={\"color\": \"red\"})\n",
        "plt.title('MPG vs Weight')\n",
        "plt.show()\n"
      ],
      "metadata": {
        "id": "mjzw27vvoAXJ"
      },
      "execution_count": null,
      "outputs": []
    },
    {
      "cell_type": "markdown",
      "source": [
        "### Questions:\n",
        "\n",
        "\n",
        "- What is the difference between **Mean Squared Error (MSE)** and $\\hat{\\sigma}^2 $ in the context of linear regression?\n",
        "  - Why is MSE sometimes defined as $\\frac{\\text{RSS}}{n} $ and why do we divide RSS by the degrees of freedom for $ \\hat{\\sigma}^2 $?\n",
        "  - How does adjusting for degrees of freedom impact the estimate of the error variance?\n",
        "\n",
        "- How is the **covariance matrix** of the estimated coefficients $\\hat{\\beta} $ calculated?\n",
        "  - Write down the formula for the covariance matrix $ \\text{Cov}(\\hat{\\beta}) $.\n",
        "  - Why is it important to compute the **diagonal elements** of this matrix, and how do these relate to the standard errors of the coefficients?\n",
        "\n",
        "\n",
        "-  How is the t-test used to assess the statistical significance of the coefficients in linear regression?\n",
        "  - What is the null hypothesis in the t-test for a regression coefficient?\n",
        "  - How is the **t-value** calculated, and how do we use it to obtain the **p-value**?\n",
        "  - What is the relationship between the t-value, standard error of $ \\hat{\\beta}$, and the confidence intervals for the parameter?\n",
        "\n",
        "-  If a parameter's t-test returns a high p-value, what does that suggest about the significance of the parameter in the model?\n",
        "  - Should this parameter be kept or removed from the model, and why?\n"
      ],
      "metadata": {
        "id": "IXeV0-GA2Bxl"
      }
    },
    {
      "cell_type": "code",
      "source": [
        "# Compute residuals\n",
        "residuals = model.fit().resid\n",
        "\n",
        "# Compute and print statistics\n",
        "print(\"Mean of residuals:\", residuals.mean())\n",
        "print(\"Standard deviation of residuals:\", residuals.std())\n",
        "print(\"Mean Squared Error (MSE):\", (residuals**2).sum()/len(cars))\n",
        "print(\"Variance of residuals:\", residuals.var())\n",
        "print(\"Scaled deviance of residuals:\", (residuals**2).sum() / (len(cars) - 2))\n",
        "print(\"Skewness of residuals:\", residuals.skew())\n",
        "print(\"Kurtosis of residuals:\", residuals.kurtosis())"
      ],
      "metadata": {
        "id": "sa6IxK2v43Ys"
      },
      "execution_count": null,
      "outputs": []
    },
    {
      "cell_type": "code",
      "source": [
        "# Plot residuals as a histogram\n",
        "plt.hist(residuals, bins=20, edgecolor='k', alpha=0.65)\n",
        "plt.title('Histogram of Residuals')\n",
        "plt.xlabel('Residual')\n",
        "plt.ylabel('Frequency')\n",
        "plt.show()\n",
        "\n",
        "# Q-Q plot of residuals\n",
        "stats.probplot(residuals, plot=plt)\n",
        "plt.title('Q-Q Plot of Residuals')\n",
        "plt.show()"
      ],
      "metadata": {
        "id": "tmwBMYHC-Oiq"
      },
      "execution_count": null,
      "outputs": []
    },
    {
      "cell_type": "code",
      "source": [
        "# Plotting results\n",
        "fig, ax = plt.subplots(figsize=(12, 8))\n",
        "fig = sm.graphics.plot_fit(model.fit(), 1, ax=ax)\n",
        "plt.show()"
      ],
      "metadata": {
        "id": "ph-MENLv8gao"
      },
      "execution_count": null,
      "outputs": []
    },
    {
      "cell_type": "code",
      "source": [
        "def get_regression(X, Y):\n",
        "    \"\"\"\n",
        "    Calculate linear regression coefficients, standard errors,\n",
        "    t-values, p-values, and 95% confidence intervals.\n",
        "\n",
        "    Parameters:\n",
        "    - X: DataFrame or array-like of independent variables.\n",
        "    - Y: Series or array-like of dependent variable.\n",
        "\n",
        "    Returns:\n",
        "    - DataFrame with coefficients, standard errors, t-values, p-values,\n",
        "      and 95% confidence intervals.\n",
        "    \"\"\"\n",
        "\n",
        "    # Ensure X and Y are DataFrames or numpy arrays\n",
        "    X = pd.DataFrame(X.copy())  # X must be a DataFrame\n",
        "    Y = np.array(Y)  # Convert Y to NumPy array if it's a Series\n",
        "\n",
        "    # Add constant (intercept) term to X matrix\n",
        "    X['const'] = 1  # Adds intercept term\n",
        "    X = X[['const'] + [col for col in X if col != 'const']]  # Ensure 'const' is the first column\n",
        "\n",
        "    # Calculate regression coefficients (beta_hat) using the formula: (X'X)^(-1) X'Y\n",
        "    # Not efficient but simple\n",
        "    beta_hat = np.linalg.inv(X.values.T @ X.values) @ X.values.T @ Y\n",
        "\n",
        "    # Predicted values and residuals\n",
        "    Y_pred = X.values @ beta_hat  # Predicted Y\n",
        "    residuals = Y - Y_pred  # Residuals (actual Y - predicted Y)\n",
        "\n",
        "    # Residual Sum of Squares (RSS) = Sum of Sqeuares Errors (SSE)\n",
        "    RSS = residuals.T @ residuals\n",
        "\n",
        "    # Mean Squared Error (MSE)\n",
        "    MSE = RSS / Y.shape[0]\n",
        "\n",
        "    # Adjusted degrees of freedom (n - p), where n is the number of observations and p is the number of predictors\n",
        "    df = Y.shape[0] - X.shape[1]\n",
        "    # Unbiased estimate of the variance of the residuals (RSS divided by degrees of freedom)\n",
        "    sigma2_hat = RSS / df\n",
        "\n",
        "    # Standard errors of coefficients (sqrt of diagonal of covariance matrix)\n",
        "    se_beta_hat = np.sqrt(sigma2_hat * np.diag(np.linalg.inv(X.values.T @ X.values)))\n",
        "\n",
        "    # t-values and p-values\n",
        "    t_values = beta_hat / se_beta_hat\n",
        "    p_values = 2 * (1 - t.cdf(np.abs(t_values), df))\n",
        "\n",
        "    # Critical t-value for 95% confidence intervals\n",
        "    alpha = 0.05\n",
        "    t_critical = t.ppf(1 - alpha/2, df)\n",
        "\n",
        "    # 95% Confidence Intervals\n",
        "    ci_lower = beta_hat - t_critical * se_beta_hat\n",
        "    ci_upper = beta_hat + t_critical * se_beta_hat\n",
        "\n",
        "    # Create a DataFrame for the output\n",
        "    return pd.DataFrame({\n",
        "        'coef': beta_hat,\n",
        "        'std err': se_beta_hat,\n",
        "        't': t_values,\n",
        "        'P > |t|': p_values,\n",
        "        '95% CI Lower': ci_lower,\n",
        "        '95% CI Upper': ci_upper\n",
        "    }, index=X.columns)\n"
      ],
      "metadata": {
        "id": "PuVNFfCfvB3m"
      },
      "execution_count": null,
      "outputs": []
    },
    {
      "cell_type": "code",
      "source": [],
      "metadata": {
        "id": "vxIivnoW41mH"
      },
      "execution_count": null,
      "outputs": []
    },
    {
      "cell_type": "code",
      "source": [
        "# Independent variable (X) - weight\n",
        "X = cars[['weight']]\n",
        "# Dependent variable (Y) - mpg\n",
        "Y = cars['mpg']\n",
        "\n",
        "# Use the manual OLS function you created\n",
        "manual_ols = get_regression(X, Y)\n",
        "print(\"Manual OLS Results:\")\n",
        "print(manual_ols)\n",
        "\n",
        "# Compare with statsmodels OLS\n",
        "# Add constant to X (intercept term)\n",
        "X_with_const = sm.add_constant(X[['weight']])\n",
        "\n",
        "# Run OLS using statsmodels\n",
        "model = sm.OLS(Y, X_with_const)\n",
        "results = model.fit()\n",
        "print(\"\\nStatsmodels OLS Results:\")\n",
        "print(results.summary())\n"
      ],
      "metadata": {
        "id": "zFsT0tq5vHcm"
      },
      "execution_count": null,
      "outputs": []
    },
    {
      "cell_type": "code",
      "source": [],
      "metadata": {
        "id": "pzk-erYpKuxw"
      },
      "execution_count": null,
      "outputs": []
    },
    {
      "cell_type": "markdown",
      "source": [
        "**Task:** In the simple linear regression model, construct a Wald test for $H_0 : \\beta_1 = 17 \\beta_0$ versus $H_1 : \\beta_1 \\neq 17 \\beta_0$.\n",
        "\n",
        "<!--  **Solution**.  Let $\\delta = \\beta_1 - 17 \\beta_0$.  The MLE is $\\hat{\\delta} = \\hat{\\beta}_1 - 17 \\hat{\\beta}_0$, with estimated standard error $\\hat{\\text{se}}(\\hat{\\delta})$, where\n",
        "\n",
        "$$\\hat{\\text{se}}(\\hat{\\delta})^2 = \\hat{\\text{se}}(\\hat{\\beta}_1 - 17 \\hat{\\beta}_0)^2 = \\hat{\\text{se}}(\\hat{\\beta}_1)^2 + 17^2 \\hat{\\text{se}}(\\hat{\\beta}_0)^2 $$\n",
        "\n",
        "\n",
        "The Wald test then checks if $|W| < z_{\\alpha / 2}$, where\n",
        "\n",
        "$$W = \\frac{\\hat{\\delta} - 0}{\\hat{\\text{se}}(\\hat{\\delta})}\n",
        "= \\frac{\\hat{\\beta}_1 - 17 \\hat{\\beta}_0}{\\sqrt{\\hat{\\text{se}}(\\hat{\\beta}_1)^2 + 17^2 \\hat{\\text{se}}(\\hat{\\beta}_0)^2}}$$ -->"
      ],
      "metadata": {
        "id": "Ls8mIR2XK0Zf"
      }
    },
    {
      "cell_type": "code",
      "source": [],
      "metadata": {
        "id": "4SqWwZB0Nhxt"
      },
      "execution_count": null,
      "outputs": []
    },
    {
      "cell_type": "code",
      "source": [
        "from scipy.stats import f\n",
        "\n",
        "# Fit the two models\n",
        "fit0 = smf.ols('mpg ~ 1', data=cars).fit()  # Restricted model mpg ~ 1 (intercept only)\n",
        "fit1 = smf.ols('mpg ~ weight', data=cars).fit() # Full model mpg ~ weight\n",
        "\n",
        "# Get RSS for both models\n",
        "RSS0 = np.sum(fit0.resid ** 2)  # Residual sum of squares for restricted model\n",
        "RSS1 = np.sum(fit1.resid ** 2)  # Residual sum of squares for full model\n",
        "\n",
        "# Number of observations and number of parameters\n",
        "n = len(cars)\n",
        "p0 = 1  # Number of parameters in the restricted model (intercept)\n",
        "p1 = 2  # Number of parameters in the full model (intercept + weight)\n",
        "\n",
        "# Degrees of freedom for both models\n",
        "df0 = n - p0  # Degrees of freedom for fit0\n",
        "df1 = n - p1  # Degrees of freedom for fit1\n",
        "\n",
        "# Compute the F-statistic\n",
        "numerator = (RSS0 - RSS1) / (p1 - p0)  # Improvement in RSS\n",
        "denominator = RSS1 / df1  # Error in the full model\n",
        "\n",
        "F_stat = numerator / denominator\n",
        "print(f\"F-statistic: {F_stat}\")\n",
        "\n",
        "# Compare with critical value from F-distribution\n",
        "alpha = 0.05  # Significance level\n",
        "F_critical = f.ppf(1 - alpha, p1 - p0, df1)\n",
        "print(f\"Critical F-value at 5% significance: {F_critical}\")\n",
        "\n",
        "# p-value from the F-distribution\n",
        "p_value = 1 - f.cdf(F_stat, p1 - p0, df1)\n",
        "print(f\"P-value: {p_value}\")\n"
      ],
      "metadata": {
        "id": "A0gIld6NDaHo"
      },
      "execution_count": null,
      "outputs": []
    },
    {
      "cell_type": "code",
      "source": [
        "# Fit the two models with and without intercept\n",
        "fit1 = smf.ols('mpg ~ weight', data=cars).fit()  # Full model with intercept\n",
        "fit2 = smf.ols('mpg ~ -1 + weight', data=cars).fit()  # Full model without intercept\n",
        "\n",
        "# Get RSS for both models (Manual calculation)\n",
        "RSS1 = np.sum(fit1.resid ** 2)  # Residual sum of squares for fit1\n",
        "RSS2 = np.sum(fit2.resid ** 2)  # Residual sum of squares for fit2\n",
        "\n",
        "# Compute TSS (Total Sum of Squares)\n",
        "TSS_with_intercept = np.sum((cars['mpg'] - cars['mpg'].mean()) ** 2)  # TSS with intercept\n",
        "TSS_no_intercept = np.sum(cars['mpg'] ** 2)  # TSS without intercept (relative to origin)\n",
        "\n",
        "# R-squared for fit1 (manual calculation, with intercept)\n",
        "R2_1_manual = 1 - (RSS1 / TSS_with_intercept)\n",
        "\n",
        "# R-squared for fit2 (manual calculation, without intercept)\n",
        "R2_2_manual = 1 - (RSS2 / TSS_no_intercept)\n",
        "\n",
        "# Extract R-squared from the models (from statsmodels)\n",
        "R2_1_sm = fit1.rsquared  # R-squared from statsmodels for fit1\n",
        "R2_2_sm = fit2.rsquared  # R-squared from statsmodels for fit2\n",
        "\n",
        "# Print the results\n",
        "print(f\"Manual R-squared for fit1 (with intercept): {R2_1_manual}\")\n",
        "print(f\"Manual R-squared for fit2 (without intercept): {R2_2_manual}\\n\")\n",
        "\n",
        "print(f\"R-squared from statsmodels for fit1 (with intercept): {R2_1_sm}\")\n",
        "print(f\"R-squared from statsmodels for fit2 (without intercept): {R2_2_sm}\")"
      ],
      "metadata": {
        "id": "Xc9nSLG3GIXT"
      },
      "execution_count": null,
      "outputs": []
    },
    {
      "cell_type": "code",
      "source": [
        "# Compute TSS (wrong calculation with intercept)\n",
        "TSS_wrong = np.sum((cars['mpg'] - cars['mpg'].mean()) ** 2)\n",
        "\n",
        "# Compute R-squared incorrectly for fit2 (without intercept)\n",
        "R2_wrong = 1 - (RSS2 / TSS_wrong)\n",
        "\n",
        "print(f\"Wrong R-squared for fit2 (using intercept-based formula): {R2_wrong}\")"
      ],
      "metadata": {
        "id": "AO7tajXnHI-7"
      },
      "execution_count": null,
      "outputs": []
    },
    {
      "cell_type": "code",
      "source": [],
      "metadata": {
        "id": "P8OdLKKkHY5K"
      },
      "execution_count": null,
      "outputs": []
    },
    {
      "cell_type": "code",
      "source": [],
      "metadata": {
        "id": "8r_MtfWm-Oln"
      },
      "execution_count": null,
      "outputs": []
    },
    {
      "cell_type": "code",
      "source": [],
      "metadata": {
        "id": "oDh806z0-Oou"
      },
      "execution_count": null,
      "outputs": []
    },
    {
      "cell_type": "code",
      "source": [
        "# Independent variables (X) - weight and origin\n",
        "X = cars[['weight', 'origin']]\n",
        "\n",
        "# Convert 'origin' to dummy variables (one-hot encoding)\n",
        "X = pd.get_dummies(X, drop_first=True)  # This converts 'origin' to dummy variables\n",
        "\n",
        "# Ensure that all data is numeric by converting to float\n",
        "X = X.astype(float)\n",
        "\n",
        "# Use the manual OLS function you created\n",
        "manual_ols = get_regression(X, Y)\n",
        "print(\"Manual OLS Results:\")\n",
        "print(manual_ols)\n",
        "\n",
        "# Compare with statsmodels OLS\n",
        "# Add constant to X (intercept term)\n",
        "X_with_const = sm.add_constant(X)\n",
        "\n",
        "# Run OLS using statsmodels\n",
        "model = sm.OLS(Y, X_with_const)\n",
        "results = model.fit()\n",
        "print(\"\\nStatsmodels OLS Results:\")\n",
        "print(results.summary())"
      ],
      "metadata": {
        "id": "jM-xAY09vCsu"
      },
      "execution_count": null,
      "outputs": []
    },
    {
      "cell_type": "code",
      "source": [
        "# Run OLS using statsmodels formula\n",
        "model = smf.ols('mpg ~ weight + origin', data=cars)\n",
        "results = model.fit()\n",
        "print(\"\\nStatsmodels OLS Results:\")\n",
        "print(results.summary())"
      ],
      "metadata": {
        "id": "p9GbHZE4wTeI"
      },
      "execution_count": null,
      "outputs": []
    },
    {
      "cell_type": "code",
      "source": [],
      "metadata": {
        "id": "5L2sCkBVwUIp"
      },
      "execution_count": null,
      "outputs": []
    },
    {
      "cell_type": "code",
      "source": [],
      "metadata": {
        "id": "rB-1Z9KhwUMG"
      },
      "execution_count": null,
      "outputs": []
    },
    {
      "cell_type": "code",
      "source": [],
      "metadata": {
        "id": "bTBmD5puuruu"
      },
      "execution_count": null,
      "outputs": []
    },
    {
      "cell_type": "code",
      "source": [
        "# Linear Regression for different countries\n",
        "countries = cars['origin'].unique()\n",
        "\n",
        "for country in countries:\n",
        "    country_data = cars[cars['origin'] == country]\n",
        "    model_country = smf.ols('mpg ~ horsepower', data=country_data).fit()\n",
        "    print(f'Regression for Country: {country}')\n",
        "    print(model_country.summary())\n",
        "\n",
        "    # Plot for each country\n",
        "    plt.figure()\n",
        "    sns.regplot(x='horsepower', y='mpg', data=country_data, ci=None, line_kws={\"color\": \"red\"})\n",
        "    plt.title(f'MPG vs Horsepower - {country}')\n",
        "    plt.show()\n"
      ],
      "metadata": {
        "id": "gOK9NucwoTKb"
      },
      "execution_count": null,
      "outputs": []
    },
    {
      "cell_type": "code",
      "source": [],
      "metadata": {
        "id": "O-uCvbZInv_y"
      },
      "execution_count": null,
      "outputs": []
    },
    {
      "cell_type": "code",
      "source": [],
      "metadata": {
        "id": "N42l2emMnwCm"
      },
      "execution_count": null,
      "outputs": []
    },
    {
      "cell_type": "markdown",
      "source": [
        "# Student Individual Work\n",
        "\n",
        "### 1. Convert `mpg` to liters per 100 km\n",
        "- **Task**: Convert the fuel consumption in `mpg` (miles per gallon) to liters per 100 kilometers (L/100km).\n",
        "- **Formula**:\n",
        "  $\n",
        "  \\text{L/100km} = \\frac{235.215}{\\text{mpg}}\n",
        "  $\n",
        "- **Question**: What is the average fuel consumption in liters per 100 km for the dataset?\n",
        "\n",
        "---\n",
        "\n",
        "### 2. Convert `horsepower` to kilowatts (kW)\n",
        "- **Task**: Convert the engine power from `horsepower (hp)` to `kilowatts (kW)`.\n",
        "- **Formula**:\n",
        "  $\n",
        "  \\text{kW} = \\text{hp} \\times 0.7355\n",
        "  $\n",
        "- **Question**: What is the range of engine power in kilowatts for the dataset?\n",
        "\n",
        "---\n",
        "\n",
        "### 3. Run regression analysis on how `liters_per_100km` depends on `kw` (engine power)\n",
        "- **Task**: Perform regression analysis to understand the relationship between fuel consumption (`liters_per_100km`) and engine power (`kw`).\n",
        "- **Question**: What are the coefficients of the regression model? How do they interpret the relationship between fuel consumption and engine power?\n",
        "\n",
        "---\n",
        "\n",
        "### 4. Run the same regression analysis using a model **with and without intercept**\n",
        "- **Task**: Run two regression models—one with an intercept and one without an intercept.\n",
        "- **Question**: How do the models differ? What are the key differences in the interpretation of the results between the two models?\n",
        "\n",
        "---\n",
        "\n",
        "### 5. Discuss the F-statistic and R-squared for both models\n",
        "- **Task**: Compare the F-statistic and R-squared for both models (with and without intercept).\n",
        "- **Question**: Which model better explains the data, and why? Which one would you choose and under what circumstances?\n",
        "\n",
        "---\n",
        "\n",
        "### 6. Test if the regression coefficient for the Intercept is equal to 10 times the regression coefficient for Horsepower\n",
        "- **Task**: Test the hypothesis that the intercept is equal to 10 times the regression coefficient for engine power.\n",
        "  $\n",
        "  H_0: \\beta_0 = 10 \\times \\beta_1 \\quad vs. \\quad H_1: \\beta_0 \\neq 10 \\times \\beta_1\n",
        "  $\n",
        "- **Question**: Can we reject the null hypothesis? What does this tell us about the relationship between the intercept and engine power?\n",
        "\n",
        "---\n",
        "\n",
        "### 7. Compare fuel consumption for cars from Europe and Japan\n",
        "- **Task**: Compare the fuel consumption (in liters per 100 km) between European and Japanese cars at different engine power levels (kW).\n",
        "- **Question**: For what engine power (`kw`) do European cars have smaller fuel consumption than Japanese cars?\n",
        "\n",
        "---\n",
        "\n",
        "### 8. Investigate the impact of `weight` on fuel consumption\n",
        "- **Task**: Add `weight` as a second predictor in the regression model to see how it affects the relationship between engine power and fuel consumption.\n",
        "- **Question**: Does `weight` significantly improve the model? How does it affect the coefficients and interpretation of `kw`?\n",
        "\n",
        "---\n",
        "\n",
        "\n",
        "### 9. Predict the fuel consumption of a car with 150 kW engine power and discuss the prediction interval\n",
        "- **Task**: Use the regression model to predict the fuel consumption of a car with 150 kW engine power (for each origin).\n",
        "- **Question**: What is the predicted fuel consumption? How confident are we in this prediction?\n",
        "\n"
      ],
      "metadata": {
        "id": "1TSyBV0DJtFd"
      }
    },
    {
      "cell_type": "code",
      "source": [],
      "metadata": {
        "id": "f9EC2HO8nxNs"
      },
      "execution_count": null,
      "outputs": []
    },
    {
      "cell_type": "code",
      "source": [],
      "metadata": {
        "id": "_LUEH3IbnxQQ"
      },
      "execution_count": null,
      "outputs": []
    },
    {
      "cell_type": "code",
      "source": [],
      "metadata": {
        "id": "MIbGzK9NnxS3"
      },
      "execution_count": null,
      "outputs": []
    },
    {
      "cell_type": "code",
      "source": [],
      "metadata": {
        "id": "JaDYtnGNnxVT"
      },
      "execution_count": null,
      "outputs": []
    },
    {
      "cell_type": "code",
      "source": [],
      "metadata": {
        "id": "wPUPEgVHlQ8U"
      },
      "execution_count": null,
      "outputs": []
    }
  ]
}